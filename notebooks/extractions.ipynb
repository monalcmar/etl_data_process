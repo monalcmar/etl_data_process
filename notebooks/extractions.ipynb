{
 "cells": [
  {
   "cell_type": "markdown",
   "metadata": {},
   "source": [
    "Extractions Silver"
   ]
  },
  {
   "cell_type": "code",
   "execution_count": 1,
   "metadata": {},
   "outputs": [],
   "source": [
    "import os \n",
    "import sys\n",
    "import pandas as pd\n",
    "import numpy as np\n",
    "from pathlib import Path"
   ]
  },
  {
   "cell_type": "code",
   "execution_count": 2,
   "metadata": {},
   "outputs": [],
   "source": [
    "# Importar modulos propios en notebook\n",
    "project_root = Path(os.getcwd()).parent\n",
    "sys.path.append(str(project_root))"
   ]
  },
  {
   "cell_type": "code",
   "execution_count": 3,
   "metadata": {},
   "outputs": [],
   "source": [
    "import dependencies as dp"
   ]
  },
  {
   "cell_type": "code",
   "execution_count": 4,
   "metadata": {},
   "outputs": [
    {
     "name": "stderr",
     "output_type": "stream",
     "text": [
      "2024-12-03 19:45:13,030 - INFO - Successful connection to schema bronze\n",
      "2024-12-03 19:45:13,064 - INFO - Successful connection to schema silver\n",
      "2024-12-03 19:45:13,095 - INFO - Successful connection to schema gold\n"
     ]
    },
    {
     "name": "stdout",
     "output_type": "stream",
     "text": [
      ":D\n"
     ]
    }
   ],
   "source": [
    "from processes.extract.bronze import historic_df_bronze, resent_df_bronze\n",
    "from db.engines import engine_bronze, conn_bronze"
   ]
  },
  {
   "cell_type": "code",
   "execution_count": 5,
   "metadata": {},
   "outputs": [],
   "source": [
    "schema = 'bronze'"
   ]
  },
  {
   "cell_type": "code",
   "execution_count": 6,
   "metadata": {},
   "outputs": [
    {
     "name": "stderr",
     "output_type": "stream",
     "text": [
      "2024-12-03 19:45:13,119 - INFO - Mapping database tables in schema 'bronze' started.\n",
      "2024-12-03 19:45:13,203 - INFO - Tables in schema 'bronze' were successfully mapped.\n"
     ]
    }
   ],
   "source": [
    "bronze_df = resent_df_bronze(engine=engine_bronze, schema=schema)"
   ]
  },
  {
   "cell_type": "code",
   "execution_count": 7,
   "metadata": {},
   "outputs": [],
   "source": [
    "from processes.extract.functions import map_db_tables"
   ]
  },
  {
   "cell_type": "code",
   "execution_count": 8,
   "metadata": {},
   "outputs": [
    {
     "name": "stderr",
     "output_type": "stream",
     "text": [
      "2024-12-03 19:45:38,226 - INFO - Mapping database tables in schema 'bronze' started.\n",
      "2024-12-03 19:45:38,247 - INFO - Tables in schema 'bronze' were successfully mapped.\n"
     ]
    }
   ],
   "source": [
    "db_tables = map_db_tables(engine=engine_bronze, schema=schema)"
   ]
  },
  {
   "cell_type": "code",
   "execution_count": 9,
   "metadata": {},
   "outputs": [],
   "source": [
    "from model.table_relations import related_orig_bron\n",
    "from datetime import date, timedelta"
   ]
  },
  {
   "cell_type": "code",
   "execution_count": 10,
   "metadata": {},
   "outputs": [],
   "source": [
    "engine = engine_bronze"
   ]
  },
  {
   "cell_type": "code",
   "execution_count": 23,
   "metadata": {},
   "outputs": [
    {
     "name": "stderr",
     "output_type": "stream",
     "text": [
      "2024-12-03 19:54:42,696 - INFO - Data from U6321303_Almacenes table has been load in a DataFrame.\n"
     ]
    },
    {
     "name": "stdout",
     "output_type": "stream",
     "text": [
      "U6321303_Almacenes\n",
      "U6301303_Clientes\n"
     ]
    },
    {
     "name": "stderr",
     "output_type": "stream",
     "text": [
      "2024-12-03 19:54:43,142 - INFO - Data from U6301303_Clientes table has been load in a DataFrame.\n",
      "2024-12-03 19:54:43,145 - INFO - Data from U6311303_Empresas table has been load in a DataFrame.\n",
      "2024-12-03 19:54:43,149 - INFO - Data from U6331303_Operarios table has been load in a DataFrame.\n",
      "2024-12-03 19:54:43,151 - INFO - Data from U6311303_Talleres table has been load in a DataFrame.\n",
      "2024-12-03 19:54:43,153 - INFO - Data from ULSTTHPT_TiposHoras table has been load in a DataFrame.\n",
      "2024-12-03 19:54:43,155 - INFO - Data from ULSTTVPT_TiposVentas table has been load in a DataFrame.\n"
     ]
    },
    {
     "name": "stdout",
     "output_type": "stream",
     "text": [
      "U6311303_Empresas\n",
      "U6331303_Operarios\n",
      "U6311303_Talleres\n",
      "ULSTTHPT_TiposHoras\n",
      "ULSTTVPT_TiposVentas\n",
      "U6341303_Vehiculos\n"
     ]
    },
    {
     "name": "stderr",
     "output_type": "stream",
     "text": [
      "2024-12-03 19:54:43,930 - INFO - Data from U6341303_Vehiculos table has been load in a DataFrame.\n"
     ]
    },
    {
     "name": "stdout",
     "output_type": "stream",
     "text": [
      "U6301303_Articulos\n"
     ]
    },
    {
     "name": "stderr",
     "output_type": "stream",
     "text": [
      "2024-12-03 19:54:44,730 - INFO - Data from U6301303_Articulos table has been load in a DataFrame.\n"
     ]
    },
    {
     "name": "stdout",
     "output_type": "stream",
     "text": [
      "U533_OrdenesReparacion\n"
     ]
    },
    {
     "name": "stderr",
     "output_type": "stream",
     "text": [
      "2024-12-03 19:54:45,233 - INFO - Data from U533_OrdenesReparacion table has been load in a DataFrame.\n"
     ]
    },
    {
     "name": "stdout",
     "output_type": "stream",
     "text": [
      "U554_VentasMostrador\n"
     ]
    },
    {
     "name": "stderr",
     "output_type": "stream",
     "text": [
      "2024-12-03 19:54:45,569 - INFO - Data from U554_VentasMostrador table has been load in a DataFrame.\n"
     ]
    },
    {
     "name": "stdout",
     "output_type": "stream",
     "text": [
      "U560_VentasTaller\n"
     ]
    },
    {
     "name": "stderr",
     "output_type": "stream",
     "text": [
      "2024-12-03 19:54:48,192 - INFO - Data from U560_VentasTaller table has been load in a DataFrame.\n"
     ]
    },
    {
     "name": "stdout",
     "output_type": "stream",
     "text": [
      "U551_Presencia\n"
     ]
    },
    {
     "name": "stderr",
     "output_type": "stream",
     "text": [
      "2024-12-03 19:54:48,627 - INFO - Data from U551_Presencia table has been load in a DataFrame.\n"
     ]
    },
    {
     "name": "stdout",
     "output_type": "stream",
     "text": [
      "U532_Trabajadas\n"
     ]
    },
    {
     "name": "stderr",
     "output_type": "stream",
     "text": [
      "2024-12-03 19:54:49,477 - INFO - Data from U532_Trabajadas table has been load in a DataFrame.\n"
     ]
    },
    {
     "name": "stdout",
     "output_type": "stream",
     "text": [
      "U553_Compras\n"
     ]
    },
    {
     "name": "stderr",
     "output_type": "stream",
     "text": [
      "2024-12-03 19:54:50,230 - INFO - Data from U553_Compras table has been load in a DataFrame.\n"
     ]
    },
    {
     "name": "stdout",
     "output_type": "stream",
     "text": [
      "U555_Invertidas\n"
     ]
    },
    {
     "name": "stderr",
     "output_type": "stream",
     "text": [
      "2024-12-03 19:54:50,488 - INFO - Data from U555_Invertidas table has been load in a DataFrame.\n",
      "2024-12-03 19:54:50,492 - INFO - Data from U552_Stock table has been load in a DataFrame.\n"
     ]
    },
    {
     "name": "stdout",
     "output_type": "stream",
     "text": [
      "U552_Stock\n"
     ]
    }
   ],
   "source": [
    "dataframes = {}\n",
    "\n",
    "for key in related_orig_bron.keys():\n",
    "    #if key in {'master_table', 'master_table_mult', 'fact_table', 'fact_table_mult'}:\n",
    "    for table in related_orig_bron[key]:\n",
    "        print(table['tbl_bron'])\n",
    "        table_name = table['tbl_bron']\n",
    "        date_column = table['date_column']\n",
    "\n",
    "        \n",
    "\n",
    "        try:\n",
    "            \n",
    "\n",
    "            if date_column:\n",
    "\n",
    "                # get date range\n",
    "                current_date = date.today()\n",
    "                min_date = current_date - timedelta(days=730)\n",
    "\n",
    "                current_date = current_date.strftime('%Y-%m-%d')\n",
    "                min_date = min_date.strftime('%Y-%m-%d')\n",
    "\n",
    "                query = f'SELECT * FROM \"{table_name}\" WHERE \"{date_column}\" BETWEEN \\'{min_date}\\' AND \\'{current_date}\\''\n",
    "\n",
    "            else:\n",
    "                query = f'SELECT * FROM \"{table_name}\"'\n",
    "\n",
    "\n",
    "            dataframes[table_name] = pd.read_sql(query, con=engine).iloc[:, :-2]\n",
    "\n",
    "            dp.logger.info(f'Data from {table_name} table has been load in a DataFrame.')\n",
    "\n",
    "        except Exception as e:\n",
    "            dp.logger.error(f\"Error loading data from table '{table_name}': {e}\")\n",
    "            raise\n"
   ]
  },
  {
   "cell_type": "code",
   "execution_count": 12,
   "metadata": {},
   "outputs": [],
   "source": [
    "def db_tables_to_df_resent (engine, tables, date_column=None):\n",
    "    ''''''\n",
    "    dataframes = {}\n",
    "\n",
    "    for key in related_orig_bron.keys():\n",
    "        #if key in {'master_table', 'master_table_mult', 'fact_table', 'fact_table_mult'}:\n",
    "        for table in related_orig_bron[key]:\n",
    "            print(table['tbl_bron'])\n",
    "            table_name = table['tbl_bron']\n",
    "            date_column = table['date_column']\n",
    "\n",
    "            try:\n",
    "                if date_column:\n",
    "                    # get date range\n",
    "                    current_date = date.today()\n",
    "                    min_date = current_date - timedelta(days=730)\n",
    "\n",
    "                    current_date = current_date.strftime('%Y-%m-%d')\n",
    "                    min_date = min_date.strftime('%Y-%m-%d')\n",
    "\n",
    "                    query = f'SELECT * FROM \"{table_name}\" WHERE \"{date_column}\" BETWEEN \\'{min_date}\\' AND \\'{current_date}\\''\n",
    "\n",
    "                else:\n",
    "                    query = f'SELECT * FROM \"{table_name}\"'\n",
    "\n",
    "\n",
    "                dataframes[table_name] = pd.read_sql(query, con=engine).iloc[:, :-2]\n",
    "\n",
    "                dp.logger.info(f'Data from {table_name} table has been load in a DataFrame.')\n",
    "\n",
    "            except Exception as e:\n",
    "                dp.logger.error(f\"Error loading data from table '{table_name}': {e}\")\n",
    "                raise\n",
    "    \n",
    "    return dataframes"
   ]
  }
 ],
 "metadata": {
  "kernelspec": {
   "display_name": "venv",
   "language": "python",
   "name": "python3"
  },
  "language_info": {
   "codemirror_mode": {
    "name": "ipython",
    "version": 3
   },
   "file_extension": ".py",
   "mimetype": "text/x-python",
   "name": "python",
   "nbconvert_exporter": "python",
   "pygments_lexer": "ipython3",
   "version": "3.12.8"
  }
 },
 "nbformat": 4,
 "nbformat_minor": 2
}
