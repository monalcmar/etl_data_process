{
 "cells": [
  {
   "cell_type": "markdown",
   "metadata": {},
   "source": [
    "## Exploratory Data Analysis\n",
    "\n",
    "In this notebook the data given by different excel files is explored in order to define the details and constrains in the desing of the Data Model."
   ]
  },
  {
   "cell_type": "code",
   "execution_count": 1,
   "metadata": {},
   "outputs": [],
   "source": [
    "# Importar librerias python\n",
    "import os\n",
    "import sys\n",
    "import pandas as pd\n",
    "import numpy as np\n",
    "from pathlib import Path"
   ]
  },
  {
   "cell_type": "code",
   "execution_count": 73,
   "metadata": {},
   "outputs": [
    {
     "name": "stdout",
     "output_type": "stream",
     "text": [
      "Directorio en sys.path: False\n"
     ]
    }
   ],
   "source": [
    "# Importar modulos propios en notebook\n",
    "project_root = Path(os.getcwd()).parent\n",
    "sys.path.append(str(project_root))\n",
    "\n",
    "# Verifica que el directorio fue agregado\n",
    "print(\"Directorio en sys.path:\", project_root in sys.path)"
   ]
  },
  {
   "cell_type": "code",
   "execution_count": null,
   "metadata": {},
   "outputs": [],
   "source": [
    "from db.connection import engine_setting, engine_connection"
   ]
  },
  {
   "cell_type": "code",
   "execution_count": 3,
   "metadata": {},
   "outputs": [],
   "source": [
    "\n",
    "\n",
    "rootFolder = Path.cwd().parent\n",
    "\n",
    "excel_path_1_bonos_trab =  rootFolder / \"data\" / \"U532-2024-11-05.xls\"\n",
    "excel_path_2_taller_orden_rep =  rootFolder / \"data\" / \"U533-2024-11-05.xls\"\n",
    "excel_path_3_bonos_pres =  rootFolder / \"data\" / \"U551-2024-11-05.xls\"\n",
    "excel_path_4_stock =  rootFolder / \"data\" / \"U552-2024-11-05.xls\"\n",
    "excel_path_5_compras =  rootFolder / \"data\" / \"U553-2024-11-05.xls\"\n",
    "excel_path_6_mostrador =  rootFolder / \"data\" / \"U554-2024-11-05.xls\"\n",
    "excel_path_7_invertidas =  rootFolder / \"data\" / \"U555-2024-11-05.xls\"\n",
    "excel_path_8_taller_orden_venta =  rootFolder / \"data\" / \"U560-2024-11-05.xls\"\n",
    "excel_path_9_cliente =  rootFolder / \"data\" / \"U6301303-conta-2024-11-06.xls\"\n",
    "excel_path_10_articulo =  rootFolder / \"data\" / \"U6301303-taller-2024-11-05.xls\"\n",
    "excel_path_11_empresas =  rootFolder / \"data\" / \"U6311303-conta-2024-11-06.xls\"\n",
    "excel_path_12_talleres =  rootFolder / \"data\" / \"U6311303-taller-2024-11-05.xls\"\n",
    "excel_path_13_almacenes =  rootFolder / \"data\" / \"U6321303-2024-11-05.xls\"\n",
    "excel_path_14_operarios =  rootFolder / \"data\" / \"U6331303-2024-11-05.xls\"\n",
    "excel_path_15_vehiculo =  rootFolder / \"data\" / \"U6341303-2024-11-05.xls\"\n",
    "excel_path_16_tipos_horas =  rootFolder / \"data\" / \"ULSTTHPT-2024-11-05.xls\"\n",
    "excel_path_17_tipos_venta =  rootFolder / \"data\" / \"ULSTTVPT-2024-11-05.xls\""
   ]
  },
  {
   "cell_type": "code",
   "execution_count": 50,
   "metadata": {},
   "outputs": [
    {
     "name": "stdout",
     "output_type": "stream",
     "text": [
      "WARNING *** file size (2574483) not 512 + multiple of sector size (512)\n",
      "WARNING *** OLE2 inconsistency: SSCS size is 0 but SSAT size is non-zero\n",
      "WARNING *** file size (2562463) not 512 + multiple of sector size (512)\n",
      "WARNING *** OLE2 inconsistency: SSCS size is 0 but SSAT size is non-zero\n",
      "WARNING *** file size (1258878) not 512 + multiple of sector size (512)\n",
      "WARNING *** OLE2 inconsistency: SSCS size is 0 but SSAT size is non-zero\n",
      "WARNING *** file size (1921816) not 512 + multiple of sector size (512)\n",
      "WARNING *** OLE2 inconsistency: SSCS size is 0 but SSAT size is non-zero\n",
      "WARNING *** file size (3295101) not 512 + multiple of sector size (512)\n",
      "WARNING *** OLE2 inconsistency: SSCS size is 0 but SSAT size is non-zero\n",
      "WARNING *** file size (1176249) not 512 + multiple of sector size (512)\n",
      "WARNING *** OLE2 inconsistency: SSCS size is 0 but SSAT size is non-zero\n",
      "WARNING *** file size (1486466) not 512 + multiple of sector size (512)\n",
      "WARNING *** OLE2 inconsistency: SSCS size is 0 but SSAT size is non-zero\n",
      "WARNING *** file size (10548518) not 512 + multiple of sector size (512)\n",
      "WARNING *** OLE2 inconsistency: SSCS size is 0 but SSAT size is non-zero\n",
      "WARNING *** file size (1032552) not 512 + multiple of sector size (512)\n",
      "WARNING *** OLE2 inconsistency: SSCS size is 0 but SSAT size is non-zero\n",
      "WARNING *** file size (1046368) not 512 + multiple of sector size (512)\n",
      "WARNING *** OLE2 inconsistency: SSCS size is 0 but SSAT size is non-zero\n",
      "WARNING *** file size (69079) not 512 + multiple of sector size (512)\n",
      "WARNING *** OLE2 inconsistency: SSCS size is 0 but SSAT size is non-zero\n",
      "WARNING *** file size (542317) not 512 + multiple of sector size (512)\n",
      "WARNING *** OLE2 inconsistency: SSCS size is 0 but SSAT size is non-zero\n",
      "WARNING *** OLE2 inconsistency: SSCS size is 0 but SSAT size is non-zero\n",
      "WARNING *** OLE2 inconsistency: SSCS size is 0 but SSAT size is non-zero\n"
     ]
    }
   ],
   "source": [
    "# Leer el archivo Excel con la ruta completa\n",
    "df_bonos_trab = pd.read_excel(excel_path_1_bonos_trab)\n",
    "df_taller_orden_rep = pd.read_excel(excel_path_2_taller_orden_rep)\n",
    "df_bono_pres = pd.read_excel(excel_path_3_bonos_pres)\n",
    "df_stock = pd.read_excel(excel_path_4_stock)\n",
    "df_compras = pd.read_excel(excel_path_5_compras)\n",
    "df_mostrador = pd.read_excel(excel_path_6_mostrador)\n",
    "df_invertidas = pd.read_excel(excel_path_7_invertidas)\n",
    "df_taller_orden_venta = pd.read_excel(excel_path_8_taller_orden_venta)\n",
    "df_cliente = pd.read_excel(excel_path_9_cliente)\n",
    "df_articulos = pd.read_excel(excel_path_10_articulo)\n",
    "df_empresas = pd.read_excel(excel_path_11_empresas)\n",
    "df_talleres = pd.read_excel(excel_path_12_talleres)\n",
    "df_almacenes = pd.read_excel(excel_path_13_almacenes)\n",
    "df_operarios = pd.read_excel(excel_path_14_operarios)\n",
    "df_vehiculos = pd.read_excel(excel_path_15_vehiculo)\n",
    "df_tipos_horas = pd.read_excel(excel_path_16_tipos_horas)\n",
    "df_tipos_venta = pd.read_excel(excel_path_17_tipos_venta)\n",
    "\n"
   ]
  },
  {
   "cell_type": "markdown",
   "metadata": {},
   "source": [
    "### Conexión con capa bronze"
   ]
  },
  {
   "cell_type": "code",
   "execution_count": null,
   "metadata": {},
   "outputs": [],
   "source": [
    "# = Connection to schema ddbb =\n",
    "\n",
    "# Define database type and port \n",
    "db_type = 'postgresql' \n",
    "port = 5432\n",
    "\n",
    "# Get schema name acording to layer name\n",
    "db_schema = 'bronze'\n",
    "\n",
    "# Create engine for the specific schema\n",
    "engine = engine_setting(db_type=db_type, db_port=port, db_schema=db_schema)\n",
    "\n",
    "# Establish the connection\n",
    "conn = engine_connection(engine)"
   ]
  },
  {
   "cell_type": "markdown",
   "metadata": {},
   "source": [
    "### Funciones de limpieza y transformación de datos.\n",
    "\n",
    "- Eliminar columnas completamente vacias.\n",
    "- Eliminar espacios vacios en cada registro.\n",
    "- Verificar las columns que podrían ser números enteros 11 en lugar de 11.0. "
   ]
  },
  {
   "cell_type": "code",
   "execution_count": 15,
   "metadata": {},
   "outputs": [],
   "source": [
    "# from processes.bronze.transform import columns_to_str\n",
    "\n",
    "df_empresas = columns_to_str(df_empresas)\n",
    "df_almacenes = columns_to_str(df_almacenes)\n",
    "df_operarios = columns_to_str(df_operarios, ['Tall'])\n",
    "df_vehiculos = columns_to_str(df_vehiculos, ['Cta. condu'])\n",
    "df_tipos_horas = columns_to_str(df_tipos_horas)\n",
    "df_tipos_venta = columns_to_str(df_tipos_venta)\n",
    "df_cliente = columns_to_str(df_cliente)\n",
    "df_articulos = columns_to_str(df_articulos, ['Alma'])\n",
    "df_talleres = columns_to_str(df_talleres)\n",
    "\n",
    "df_bonos_trab = columns_to_str(df_bonos_trab, ['Operario', 'Ref.OR', 'Tipo O.R.', 'IDV'])\n",
    "df_taller_orden_rep = columns_to_str(df_taller_orden_rep, ['REF.OR', 'IDV', 'Recep'])\n",
    "df_bono_pres = columns_to_str(df_bono_pres, ['Tall', 'Operario'])\n",
    "df_stock = columns_to_str(df_stock, ['Alma', 'Mar', 'Famil', 'Fam.apro'])\n",
    "df_compras = columns_to_str(df_compras, ['Alma', 'Referenci', 'Cuenta', 'T.com', 'Mar', 'Famil', 'Fam.apro', ])\n",
    "df_mostrador = columns_to_str(df_mostrador, ['Alma', 'Refer.', 'Cuenta', 'Vende', 'Tipo venta', 'Marca', 'Fam.apro', 'Familia', 'Can'])\n",
    "df_invertidas = columns_to_str(df_invertidas, ['Tall', 'REF.OR', 'Cta.cargo', 'Tipo O.R.', 'Tipo fac', 'Recep', 'Operario'])\n",
    "df_taller_orden_rep = columns_to_str(df_taller_orden_rep, ['Tall', 'REF.OR', 'IDV', 'Cta.cargo', 'Tipo O.R.', 'Cta. tit'])"
   ]
  },
  {
   "cell_type": "code",
   "execution_count": 18,
   "metadata": {},
   "outputs": [],
   "source": [
    "def columns_to_str(df, columns=None):\n",
    "    '''\n",
    "    Cleans each column in the dataframe by removing leading and trailing whitespace \n",
    "    and ensures that all values are of string type where applicable, keeping NaNs as NaNs.\n",
    "    \n",
    "    input:\n",
    "        df (pd.DataFrame): DataFrame with columns to be cleaned and converted.\n",
    "        colums (list): list of columns that need to be transform from float to int\n",
    "    \n",
    "    return:\n",
    "        df (pd.DataFrame): DataFrame with cleaned columns and values converted to string type.\n",
    "    '''\n",
    "    \n",
    "    # Drop rows where all columns are NaN\n",
    "    df.dropna(how='all', inplace=True)\n",
    "\n",
    "    # Clean columns float data type to int type\n",
    "    if columns:\n",
    "        for column in columns:\n",
    "            try:\n",
    "                ind_cero = df[df[column].isna()].index\n",
    "                df.loc[ind_cero, column] = 0\n",
    "                df[column] = df[column].astype(int)\n",
    "                df[column] = df[column].replace(0, None)\n",
    "            except:\n",
    "                df[column] = df[column].replace('0', None)\n",
    "                df[column] = df[column].replace(0, None)\n",
    "                #pass\n",
    "    \n",
    "    # Convert each column of type object to string and strip whitespace\n",
    "    for column in df.select_dtypes(include='object').columns:\n",
    "        # Strip whitespace only for non-NaN values\n",
    "        df[column] = df[column].where(df[column].isna(), df[column].astype(str).str.strip())\n",
    "    \n",
    "    # Apply the filter to remove rows that contain '***' in any text column\n",
    "    for column in df.select_dtypes(include='object').columns:\n",
    "        df = df[~df[column].str.contains(r'\\*\\*\\*', na=False)]\n",
    "    \n",
    "    # Apply additional leading and trailing whitespace removal for all columns\n",
    "    for column in df.columns:\n",
    "        if df[column].dtype == 'object':\n",
    "            # Strip whitespace only for non-NaN values\n",
    "            df[column] = df[column].where(df[column].isna(), df[column].astype(str).str.strip())\n",
    "    \n",
    "    return df"
   ]
  },
  {
   "cell_type": "markdown",
   "metadata": {},
   "source": [
    "## Data upload - Master tables\n",
    "\n",
    "### Update new data\n",
    "\n",
    "**Step 1**: Get existing values of the reference column in ddbb table.\n",
    "\n",
    "**Step 2**: Compare dataframe values with ddbb existing values.\n",
    "\n",
    "**Step 3**: If there are new values, values are going to be written in th bbdd.\n",
    "\n",
    "**Considerations**\n",
    "- All handle values need to be str type.\n",
    "- Clean white spaces for all values.\n"
   ]
  },
  {
   "cell_type": "code",
   "execution_count": null,
   "metadata": {},
   "outputs": [],
   "source": [
    "# One function \n",
    "\n",
    "def upload_new_data (table_name, df, key_column, engine):\n",
    "    '''\n",
    "    Process new values: \n",
    "    - Get existing values from the database.\n",
    "    - Identify new values in the dataframe.\n",
    "    - Write new values to the database table.\n",
    "\n",
    "    input: \n",
    "        table_name (str): name of the table in the database.\n",
    "        df (DataFrame): dataframe to be compared with existing values.\n",
    "        key_column (str): key column name in the dataframe and table database to compare.\n",
    "        engine (SQLAlchemy engine): database connection.\n",
    "\n",
    "    output:\n",
    "        None\n",
    "    '''\n",
    "    # Get existing values from the database\n",
    "    query = f'SELECT \"{key_column}\" FROM \"{table_name}\"'\n",
    "    existing_values = pd.read_sql(query, con=engine)[key_column].tolist()\n",
    "\n",
    "    # Get new data by comparing dataframe with existing values\n",
    "    df_new_data = df[~df[key_column].isin(existing_values)]\n",
    "\n",
    "    # Write new values to the database\n",
    "    if not df_new_data.empty:\n",
    "        df_new_data.to_sql(table_name, con=engine, if_exists='append', index=False)\n"
   ]
  },
  {
   "cell_type": "markdown",
   "metadata": {},
   "source": [
    "### Update Modified Data"
   ]
  },
  {
   "cell_type": "code",
   "execution_count": null,
   "metadata": {},
   "outputs": [],
   "source": [
    "# Load data form database\n",
    "\n",
    "def get_database_table (table_name):\n",
    "\n",
    "    query = f'SELECT * FROM \"{table_name}\"'\n",
    "    db_table = pd.read_sql(query, con=engine)\n",
    "\n",
    "    return (db_table)"
   ]
  },
  {
   "cell_type": "code",
   "execution_count": null,
   "metadata": {},
   "outputs": [],
   "source": [
    "def get_modified_data (df, db_table, key_column):\n",
    "    '''\n",
    "    Verify and get modified data comparing to existing data in database.\n",
    "\n",
    "    input:\n",
    "        - df (DataFrame): DataFrame to compare.\n",
    "        - db_table (DataFrame): Dataframe with existing data from database.\n",
    "        - key_colum (str): name of key column with is going to be used to merge both DataFrames.\n",
    "    \n",
    "    output:\n",
    "        - modified_data (DataFrame): DataFrame with modified data. \n",
    "    '''\n",
    "    merge_data = df.merge(\n",
    "        db_table, on=key_column,\n",
    "        suffixes=('_new', '_db')\n",
    "    )\n",
    "\n",
    "    # Make sure both DataFrames have the same column names and index\n",
    "    new_merge_data = merge_data.filter(regex='_new$').sort_index(axis=1)\n",
    "    db_data = merge_data.filter(regex='_db$').sort_index(axis=1)\n",
    "\n",
    "    # Otherwise column names are adjusted\n",
    "    new_merge_data.columns = new_merge_data.columns.str.replace('_new$', '', regex=True)\n",
    "    db_data.columns = db_data.columns.str.replace('_db$', '', regex=True)\n",
    "\n",
    "    # Compare rows where there are differences\n",
    "    modified_data = merge_data[(new_merge_data != db_data).any(axis=1)]\n",
    "\n",
    "    return modified_data\n",
    "    "
   ]
  },
  {
   "cell_type": "code",
   "execution_count": null,
   "metadata": {},
   "outputs": [],
   "source": [
    "def update_modified_data (modified_data, key_column, db_table_name):\n",
    "    '''\n",
    "    description\n",
    "    '''\n",
    "    for _, fila in modified_data.iterrows():\n",
    "        # Create dictionary of columns with nuew values\n",
    "        valores = {col.replace('_new', ''): fila[col] for col in modified_data.filter(regex='_new$').columns}\n",
    "        key_value = fila[key_column]\n",
    "\n",
    "        # Excecute update query\n",
    "        set_clause = ', '.join([f'\"{col}\" = :{col}' for col in valores.keys()])\n",
    "        query = f'UPDATE \"{db_table_name}\" SET {set_clause} WHERE \"{key_column}\" = :key_value'\n",
    "        valores['key_value'] = key_value\n",
    "        engine.execute(query, valores)\n",
    "        print(f\"{len(modified_data)} registros actualizados en '{db_table_name}'.\")\n"
   ]
  },
  {
   "cell_type": "markdown",
   "metadata": {},
   "source": [
    "Tabla Empresas"
   ]
  },
  {
   "cell_type": "code",
   "execution_count": 8,
   "metadata": {},
   "outputs": [
    {
     "data": {
      "text/html": [
       "<div>\n",
       "<style scoped>\n",
       "    .dataframe tbody tr th:only-of-type {\n",
       "        vertical-align: middle;\n",
       "    }\n",
       "\n",
       "    .dataframe tbody tr th {\n",
       "        vertical-align: top;\n",
       "    }\n",
       "\n",
       "    .dataframe thead th {\n",
       "        text-align: right;\n",
       "    }\n",
       "</style>\n",
       "<table border=\"1\" class=\"dataframe\">\n",
       "  <thead>\n",
       "    <tr style=\"text-align: right;\">\n",
       "      <th></th>\n",
       "      <th>Codig</th>\n",
       "      <th>Nombre</th>\n",
       "    </tr>\n",
       "  </thead>\n",
       "  <tbody>\n",
       "    <tr>\n",
       "      <th>0</th>\n",
       "      <td>13</td>\n",
       "      <td>PLG EUSKADI S.L.U</td>\n",
       "    </tr>\n",
       "    <tr>\n",
       "      <th>1</th>\n",
       "      <td>16</td>\n",
       "      <td>CANTABRIA DE SERVICIOS DE TRAILER S.L.</td>\n",
       "    </tr>\n",
       "    <tr>\n",
       "      <th>2</th>\n",
       "      <td>2</td>\n",
       "      <td>PEDRO GUTIERREZ LIEBANA S.A.U.</td>\n",
       "    </tr>\n",
       "  </tbody>\n",
       "</table>\n",
       "</div>"
      ],
      "text/plain": [
       "   Codig                                  Nombre\n",
       "0     13                       PLG EUSKADI S.L.U\n",
       "1     16  CANTABRIA DE SERVICIOS DE TRAILER S.L.\n",
       "2      2          PEDRO GUTIERREZ LIEBANA S.A.U."
      ]
     },
     "execution_count": 8,
     "metadata": {},
     "output_type": "execute_result"
    }
   ],
   "source": [
    "df_empresas"
   ]
  },
  {
   "cell_type": "code",
   "execution_count": 19,
   "metadata": {},
   "outputs": [
    {
     "data": {
      "text/html": [
       "<div>\n",
       "<style scoped>\n",
       "    .dataframe tbody tr th:only-of-type {\n",
       "        vertical-align: middle;\n",
       "    }\n",
       "\n",
       "    .dataframe tbody tr th {\n",
       "        vertical-align: top;\n",
       "    }\n",
       "\n",
       "    .dataframe thead th {\n",
       "        text-align: right;\n",
       "    }\n",
       "</style>\n",
       "<table border=\"1\" class=\"dataframe\">\n",
       "  <thead>\n",
       "    <tr style=\"text-align: right;\">\n",
       "      <th></th>\n",
       "      <th>Codig</th>\n",
       "      <th>Nombre</th>\n",
       "    </tr>\n",
       "  </thead>\n",
       "  <tbody>\n",
       "    <tr>\n",
       "      <th>0</th>\n",
       "      <td>13</td>\n",
       "      <td>PLG EUSKADI S.L.U</td>\n",
       "    </tr>\n",
       "    <tr>\n",
       "      <th>1</th>\n",
       "      <td>16</td>\n",
       "      <td>CANTABRIA DE SERVICIOS DE TRAILER S.L.</td>\n",
       "    </tr>\n",
       "    <tr>\n",
       "      <th>2</th>\n",
       "      <td>2</td>\n",
       "      <td>PEDRO GUTIERREZ LIEBANA S.A.U.</td>\n",
       "    </tr>\n",
       "  </tbody>\n",
       "</table>\n",
       "</div>"
      ],
      "text/plain": [
       "   Codig                                  Nombre\n",
       "0     13                       PLG EUSKADI S.L.U\n",
       "1     16  CANTABRIA DE SERVICIOS DE TRAILER S.L.\n",
       "2      2          PEDRO GUTIERREZ LIEBANA S.A.U."
      ]
     },
     "execution_count": 19,
     "metadata": {},
     "output_type": "execute_result"
    }
   ],
   "source": [
    "df_empresas = columns_to_str(df_empresas)\n",
    "df_empresas"
   ]
  },
  {
   "cell_type": "markdown",
   "metadata": {},
   "source": [
    "Update modified data"
   ]
  },
  {
   "cell_type": "code",
   "execution_count": null,
   "metadata": {},
   "outputs": [],
   "source": [
    "# simulación \n",
    "\n",
    "df_empresas_mod = df_empresas.copy()\n",
    "df_empresas_mod.loc[df_empresas_mod['Codig'] == '13', 'Nombre'] = 'Nombre Empresa Modificado'\n",
    "df_empresas_mod"
   ]
  },
  {
   "cell_type": "code",
   "execution_count": null,
   "metadata": {},
   "outputs": [],
   "source": [
    "df_empresas"
   ]
  },
  {
   "cell_type": "code",
   "execution_count": null,
   "metadata": {},
   "outputs": [],
   "source": [
    "merge_data = df_empresas_mod.merge(\n",
    "        df_empresas, on='Codig',\n",
    "        suffixes=('_new', '_db')\n",
    "    )\n",
    "merge_data"
   ]
  },
  {
   "cell_type": "code",
   "execution_count": null,
   "metadata": {},
   "outputs": [],
   "source": [
    "# Filter and make sure both DataFrames have the same column names and index\n",
    "new_merge_data = merge_data.filter(regex='_new$').sort_index(axis=1)\n",
    "db_data = merge_data.filter(regex='_db$').sort_index(axis=1)\n",
    "\n",
    "# Otherwise column names are adjusted\n",
    "new_merge_data.columns = new_merge_data.columns.str.replace('_new$', '', regex=True)\n",
    "db_data.columns = db_data.columns.str.replace('_db$', '', regex=True)\n",
    "\n",
    "# Compare rows where there are differences\n",
    "modified_data = merge_data[(new_merge_data != db_data).any(axis=1)]\n",
    "\n",
    "modified_data"
   ]
  },
  {
   "cell_type": "markdown",
   "metadata": {},
   "source": [
    "Tabla Almacenes"
   ]
  },
  {
   "cell_type": "code",
   "execution_count": null,
   "metadata": {},
   "outputs": [],
   "source": [
    "df_almacenes = columns_to_str(df_almacenes)\n",
    "df_almacenes"
   ]
  },
  {
   "cell_type": "markdown",
   "metadata": {},
   "source": [
    "Tabla Operarios"
   ]
  },
  {
   "cell_type": "code",
   "execution_count": null,
   "metadata": {},
   "outputs": [],
   "source": [
    "df_operarios = columns_to_str(df_operarios, ['Tall'])\n",
    "df_operarios"
   ]
  },
  {
   "cell_type": "markdown",
   "metadata": {},
   "source": [
    "Tabla vehículos"
   ]
  },
  {
   "cell_type": "code",
   "execution_count": 51,
   "metadata": {},
   "outputs": [
    {
     "data": {
      "text/html": [
       "<div>\n",
       "<style scoped>\n",
       "    .dataframe tbody tr th:only-of-type {\n",
       "        vertical-align: middle;\n",
       "    }\n",
       "\n",
       "    .dataframe tbody tr th {\n",
       "        vertical-align: top;\n",
       "    }\n",
       "\n",
       "    .dataframe thead th {\n",
       "        text-align: right;\n",
       "    }\n",
       "</style>\n",
       "<table border=\"1\" class=\"dataframe\">\n",
       "  <thead>\n",
       "    <tr style=\"text-align: right;\">\n",
       "      <th></th>\n",
       "      <th>IDV</th>\n",
       "      <th>Matrícula</th>\n",
       "      <th>Bastidor</th>\n",
       "      <th>Mar</th>\n",
       "      <th>Modelo</th>\n",
       "      <th>Cta Titul</th>\n",
       "      <th>Cta. cli</th>\n",
       "      <th>Cta. condu</th>\n",
       "      <th>F. matri</th>\n",
       "      <th>KM</th>\n",
       "      <th>F. últ.</th>\n",
       "      <th>Famil</th>\n",
       "      <th>Cód. modelo</th>\n",
       "    </tr>\n",
       "  </thead>\n",
       "  <tbody>\n",
       "    <tr>\n",
       "      <th>0</th>\n",
       "      <td>135399</td>\n",
       "      <td>R6653BBT</td>\n",
       "      <td>VS92MTRVS5A869061</td>\n",
       "      <td>OT</td>\n",
       "      <td>NaN</td>\n",
       "      <td>91867</td>\n",
       "      <td>91867</td>\n",
       "      <td>None</td>\n",
       "      <td>2024-04-30</td>\n",
       "      <td>1</td>\n",
       "      <td>2024-11-05</td>\n",
       "      <td>NaN</td>\n",
       "      <td>REMOLQUE</td>\n",
       "    </tr>\n",
       "    <tr>\n",
       "      <th>1</th>\n",
       "      <td>136174</td>\n",
       "      <td>R8042BDD</td>\n",
       "      <td>WKVDAF30300096974</td>\n",
       "      <td>LT</td>\n",
       "      <td>REMOLQUE</td>\n",
       "      <td>32873</td>\n",
       "      <td>32873</td>\n",
       "      <td>32873</td>\n",
       "      <td>2018-11-13</td>\n",
       "      <td>1</td>\n",
       "      <td>2024-11-05</td>\n",
       "      <td>912</td>\n",
       "      <td>NaN</td>\n",
       "    </tr>\n",
       "    <tr>\n",
       "      <th>2</th>\n",
       "      <td>117872</td>\n",
       "      <td>P103510</td>\n",
       "      <td>VV1P3AA8ASN164500</td>\n",
       "      <td>LT</td>\n",
       "      <td>SEMI REMOLQUE</td>\n",
       "      <td>75839</td>\n",
       "      <td>75839</td>\n",
       "      <td>75839</td>\n",
       "      <td>2016-03-18</td>\n",
       "      <td>274501</td>\n",
       "      <td>2024-11-05</td>\n",
       "      <td>912</td>\n",
       "      <td>NaN</td>\n",
       "    </tr>\n",
       "    <tr>\n",
       "      <th>3</th>\n",
       "      <td>120594</td>\n",
       "      <td>R1562BDG</td>\n",
       "      <td>VV1M3AA5ASN195889</td>\n",
       "      <td>LT</td>\n",
       "      <td>NaN</td>\n",
       "      <td>61781</td>\n",
       "      <td>61781</td>\n",
       "      <td>None</td>\n",
       "      <td>2020-10-13</td>\n",
       "      <td>65494</td>\n",
       "      <td>2024-11-05</td>\n",
       "      <td>NaN</td>\n",
       "      <td>NaN</td>\n",
       "    </tr>\n",
       "    <tr>\n",
       "      <th>4</th>\n",
       "      <td>120769</td>\n",
       "      <td>R5105BDD</td>\n",
       "      <td>VV1M3AA5ASN181832</td>\n",
       "      <td>LT</td>\n",
       "      <td>NaN</td>\n",
       "      <td>61781</td>\n",
       "      <td>61781</td>\n",
       "      <td>None</td>\n",
       "      <td>2019-10-17</td>\n",
       "      <td>246411</td>\n",
       "      <td>2024-11-05</td>\n",
       "      <td>NaN</td>\n",
       "      <td>NaN</td>\n",
       "    </tr>\n",
       "    <tr>\n",
       "      <th>...</th>\n",
       "      <td>...</td>\n",
       "      <td>...</td>\n",
       "      <td>...</td>\n",
       "      <td>...</td>\n",
       "      <td>...</td>\n",
       "      <td>...</td>\n",
       "      <td>...</td>\n",
       "      <td>...</td>\n",
       "      <td>...</td>\n",
       "      <td>...</td>\n",
       "      <td>...</td>\n",
       "      <td>...</td>\n",
       "      <td>...</td>\n",
       "    </tr>\n",
       "    <tr>\n",
       "      <th>2056</th>\n",
       "      <td>83470</td>\n",
       "      <td>R8488BCS</td>\n",
       "      <td>VV1M3EA5ASN163938</td>\n",
       "      <td>LT</td>\n",
       "      <td>SEMI REMOLQUE</td>\n",
       "      <td>61781</td>\n",
       "      <td>61781</td>\n",
       "      <td>None</td>\n",
       "      <td>2015-09-28</td>\n",
       "      <td>481955</td>\n",
       "      <td>2024-09-02</td>\n",
       "      <td>912</td>\n",
       "      <td>NaN</td>\n",
       "    </tr>\n",
       "    <tr>\n",
       "      <th>2057</th>\n",
       "      <td>132653</td>\n",
       "      <td>R7156BDL</td>\n",
       "      <td>VV1M3AA5ASN216360</td>\n",
       "      <td>LT</td>\n",
       "      <td>SEMI REMOLQUE</td>\n",
       "      <td>61781</td>\n",
       "      <td>61781</td>\n",
       "      <td>None</td>\n",
       "      <td>NaT</td>\n",
       "      <td>1</td>\n",
       "      <td>2024-09-02</td>\n",
       "      <td>912</td>\n",
       "      <td>NaN</td>\n",
       "    </tr>\n",
       "    <tr>\n",
       "      <th>2058</th>\n",
       "      <td>132628</td>\n",
       "      <td>R5367BDL</td>\n",
       "      <td>VV1M3AA5ASN216335</td>\n",
       "      <td>LT</td>\n",
       "      <td>SEMI REMOLQUE</td>\n",
       "      <td>61781</td>\n",
       "      <td>61781</td>\n",
       "      <td>None</td>\n",
       "      <td>NaT</td>\n",
       "      <td>1</td>\n",
       "      <td>2024-09-02</td>\n",
       "      <td>912</td>\n",
       "      <td>NaN</td>\n",
       "    </tr>\n",
       "    <tr>\n",
       "      <th>2059</th>\n",
       "      <td>116649</td>\n",
       "      <td>R6957BDF</td>\n",
       "      <td>WSM00000003234408</td>\n",
       "      <td>SH</td>\n",
       "      <td>REMOLQUE</td>\n",
       "      <td>61781</td>\n",
       "      <td>61781</td>\n",
       "      <td>None</td>\n",
       "      <td>2016-02-10</td>\n",
       "      <td>1</td>\n",
       "      <td>2024-09-02</td>\n",
       "      <td>739</td>\n",
       "      <td>NaN</td>\n",
       "    </tr>\n",
       "    <tr>\n",
       "      <th>2060</th>\n",
       "      <td>114001</td>\n",
       "      <td>R3689BDD</td>\n",
       "      <td>WSM00000007015553</td>\n",
       "      <td>SH</td>\n",
       "      <td>REMOLQUE</td>\n",
       "      <td>61781</td>\n",
       "      <td>61781</td>\n",
       "      <td>None</td>\n",
       "      <td>NaT</td>\n",
       "      <td>1</td>\n",
       "      <td>2024-09-02</td>\n",
       "      <td>739</td>\n",
       "      <td>NaN</td>\n",
       "    </tr>\n",
       "  </tbody>\n",
       "</table>\n",
       "<p>2061 rows × 13 columns</p>\n",
       "</div>"
      ],
      "text/plain": [
       "         IDV Matrícula           Bastidor Mar         Modelo  Cta Titul  \\\n",
       "0     135399  R6653BBT  VS92MTRVS5A869061  OT            NaN      91867   \n",
       "1     136174  R8042BDD  WKVDAF30300096974  LT       REMOLQUE      32873   \n",
       "2     117872   P103510  VV1P3AA8ASN164500  LT  SEMI REMOLQUE      75839   \n",
       "3     120594  R1562BDG  VV1M3AA5ASN195889  LT            NaN      61781   \n",
       "4     120769  R5105BDD  VV1M3AA5ASN181832  LT            NaN      61781   \n",
       "...      ...       ...                ...  ..            ...        ...   \n",
       "2056   83470  R8488BCS  VV1M3EA5ASN163938  LT  SEMI REMOLQUE      61781   \n",
       "2057  132653  R7156BDL  VV1M3AA5ASN216360  LT  SEMI REMOLQUE      61781   \n",
       "2058  132628  R5367BDL  VV1M3AA5ASN216335  LT  SEMI REMOLQUE      61781   \n",
       "2059  116649  R6957BDF  WSM00000003234408  SH       REMOLQUE      61781   \n",
       "2060  114001  R3689BDD  WSM00000007015553  SH       REMOLQUE      61781   \n",
       "\n",
       "      Cta. cli Cta. condu   F. matri      KM   F. últ.  Famil Cód. modelo  \n",
       "0        91867       None 2024-04-30       1 2024-11-05   NaN    REMOLQUE  \n",
       "1        32873      32873 2018-11-13       1 2024-11-05   912         NaN  \n",
       "2        75839      75839 2016-03-18  274501 2024-11-05   912         NaN  \n",
       "3        61781       None 2020-10-13   65494 2024-11-05   NaN         NaN  \n",
       "4        61781       None 2019-10-17  246411 2024-11-05   NaN         NaN  \n",
       "...        ...        ...        ...     ...        ...   ...         ...  \n",
       "2056     61781       None 2015-09-28  481955 2024-09-02   912         NaN  \n",
       "2057     61781       None        NaT       1 2024-09-02   912         NaN  \n",
       "2058     61781       None        NaT       1 2024-09-02   912         NaN  \n",
       "2059     61781       None 2016-02-10       1 2024-09-02   739         NaN  \n",
       "2060     61781       None        NaT       1 2024-09-02   739         NaN  \n",
       "\n",
       "[2061 rows x 13 columns]"
      ]
     },
     "execution_count": 51,
     "metadata": {},
     "output_type": "execute_result"
    }
   ],
   "source": [
    "df_vehiculos = columns_to_str(df_vehiculos, ['Cta. condu'])\n",
    "df_vehiculos"
   ]
  },
  {
   "cell_type": "markdown",
   "metadata": {},
   "source": [
    "Tabla Tipos Horas"
   ]
  },
  {
   "cell_type": "code",
   "execution_count": null,
   "metadata": {},
   "outputs": [],
   "source": [
    "df_tipos_horas = columns_to_str(df_tipos_horas)\n",
    "df_tipos_horas"
   ]
  },
  {
   "cell_type": "markdown",
   "metadata": {},
   "source": [
    "Tabla Tipos Ventas"
   ]
  },
  {
   "cell_type": "code",
   "execution_count": null,
   "metadata": {},
   "outputs": [],
   "source": [
    "df_tipos_venta = columns_to_str(df_tipos_venta)\n",
    "df_tipos_venta"
   ]
  },
  {
   "cell_type": "markdown",
   "metadata": {},
   "source": [
    "Tabla Cliente"
   ]
  },
  {
   "cell_type": "code",
   "execution_count": null,
   "metadata": {},
   "outputs": [],
   "source": [
    "df_cliente = columns_to_str(df_cliente)\n",
    "df_cliente"
   ]
  },
  {
   "cell_type": "markdown",
   "metadata": {},
   "source": [
    "Tabla Articulos"
   ]
  },
  {
   "cell_type": "code",
   "execution_count": null,
   "metadata": {},
   "outputs": [],
   "source": [
    "df_articulos = columns_to_str(df_articulos, ['Alma'])\n",
    "df_articulos"
   ]
  },
  {
   "cell_type": "markdown",
   "metadata": {},
   "source": [
    "Tabla Talleres"
   ]
  },
  {
   "cell_type": "code",
   "execution_count": null,
   "metadata": {},
   "outputs": [],
   "source": [
    "df_talleres = columns_to_str(df_talleres)\n",
    "df_talleres"
   ]
  },
  {
   "cell_type": "markdown",
   "metadata": {},
   "source": [
    "## Data update - Fact tables"
   ]
  },
  {
   "cell_type": "code",
   "execution_count": null,
   "metadata": {},
   "outputs": [],
   "source": [
    "df_bonos_trab = columns_to_str(df_bonos_trab, ['Operario', 'Ref.OR', 'Tipo O.R.', 'IDV'])\n",
    "df_bonos_trab"
   ]
  },
  {
   "cell_type": "code",
   "execution_count": null,
   "metadata": {},
   "outputs": [],
   "source": [
    "df_taller_orden_rep = columns_to_str(df_taller_orden_rep, ['REF.OR', 'IDV', 'Recep'])\n",
    "df_taller_orden_rep"
   ]
  },
  {
   "cell_type": "code",
   "execution_count": null,
   "metadata": {},
   "outputs": [],
   "source": [
    "df_bono_pres = columns_to_str(df_bono_pres, ['Tall', 'Operario'])\n",
    "df_bono_pres"
   ]
  },
  {
   "cell_type": "code",
   "execution_count": null,
   "metadata": {},
   "outputs": [],
   "source": [
    "df_stock = columns_to_str(df_stock, ['Alma', 'Mar', 'Famil', 'Fam.apro'])\n",
    "df_stock"
   ]
  },
  {
   "cell_type": "code",
   "execution_count": null,
   "metadata": {},
   "outputs": [],
   "source": [
    "df_compras"
   ]
  },
  {
   "cell_type": "code",
   "execution_count": null,
   "metadata": {},
   "outputs": [],
   "source": [
    "df_compras = columns_to_str(df_compras, ['Alma', 'Referenci', 'Cuenta', 'T.com', 'Mar', 'Famil', 'Fam.apro', ])\n",
    "df_compras"
   ]
  },
  {
   "cell_type": "code",
   "execution_count": null,
   "metadata": {},
   "outputs": [],
   "source": [
    "df_mostrador = columns_to_str(df_mostrador, ['Alma', 'Refer.', 'Cuenta', 'Vende', 'Tipo venta', 'Marca', 'Fam.apro', 'Familia', 'Can'])\n",
    "df_mostrador"
   ]
  },
  {
   "cell_type": "code",
   "execution_count": null,
   "metadata": {},
   "outputs": [],
   "source": [
    "df_invertidas = columns_to_str(df_invertidas, ['Tall', 'REF.OR', 'Cta.cargo', 'Tipo O.R.', 'Tipo fac', 'Recep', 'Operario'])\n",
    "df_invertidas"
   ]
  },
  {
   "cell_type": "code",
   "execution_count": null,
   "metadata": {},
   "outputs": [],
   "source": [
    "df_taller_orden_rep = columns_to_str(df_taller_orden_rep, ['Tall', 'REF.OR', 'IDV', 'Cta.cargo', 'Tipo O.R.', 'Cta. tit'])\n",
    "df_taller_orden_rep"
   ]
  },
  {
   "cell_type": "code",
   "execution_count": null,
   "metadata": {},
   "outputs": [],
   "source": []
  },
  {
   "cell_type": "code",
   "execution_count": null,
   "metadata": {},
   "outputs": [],
   "source": [
    "# maestros\n",
    "# df_empresas.to_sql('Empresas U6311303', con=engine, if_exists='append', index=False) # ok \n",
    "# df_almacenes.to_sql('Almacenes U6321303', con=engine, if_exists='append', index=False) # ok \n",
    "# df_operarios.to_sql('Operarios U6331303', con=engine, if_exists='append', index=False) # ok\n",
    "# df_vehiculos.to_sql('Vehiculo U6341303', con=engine, if_exists='append', index=False) # ok\n",
    "# df_tipos_horas.to_sql('TipoHoras ULSTTHPT', con=engine, if_exists='append', index=False) # ok\n",
    "# df_tipos_venta.to_sql('TipoVentasAlmacen ULSTTVPT', con=engine, if_exists='append', index=False) # ok\n",
    "# df_cliente.to_sql('Cliente U6301303', con=engine, if_exists='append', index=False) # ok \n",
    "# df_articulos.to_sql('Articulo U6301303', con=engine, if_exists='append', index=False) # ok\n",
    "# df_talleres.to_sql('Talleres U6311303', con=engine, if_exists='append', index=False) # ok \n",
    "\n",
    "# # hechos\n",
    "# df_bonos_trab.to_sql('BonosTrabajadas U532', con=engine, if_exists='append', index=False) # ok \n",
    "# df_taller_orden_rep.to_sql('Taller OrdenReparacion U533', con=engine, if_exists='append', index=False) # ok\n",
    "# df_bono_pres.to_sql('BonosPresencia U551', con=engine, if_exists='append', index=False) # ok\n",
    "# df_stock.to_sql('Stock U552', con=engine, if_exists='append', index=False) # ok\n",
    "# df_compras.to_sql('Compras U553', con=engine, if_exists='append', index=False) # ok\n",
    "# df_mostrador.to_sql('Taller OrdenVentaMostrador U554', con=engine, if_exists='append', index=False) # ok\n",
    "# df_invertidas.to_sql('Invertidas U555', con=engine, if_exists='append', index=False) # ok\n",
    "# df_taller_orden_venta.to_sql('Taller OrdenVentaTaller U560', con=engine, if_exists='append', index=False) # ok\n"
   ]
  },
  {
   "cell_type": "code",
   "execution_count": null,
   "metadata": {},
   "outputs": [],
   "source": [
    "if conn:\n",
    "    conn.close()\n"
   ]
  },
  {
   "cell_type": "markdown",
   "metadata": {},
   "source": [
    "# Capa Silver"
   ]
  },
  {
   "cell_type": "markdown",
   "metadata": {},
   "source": [
    "Extract Data"
   ]
  },
  {
   "cell_type": "markdown",
   "metadata": {},
   "source": [
    "Trandform data \n",
    "\n",
    "En esta proceso de transformación, se llevan a cabo las siguientes tareas:\n",
    "\n",
    "* Asignar nombres correspondientes a tablas y campos.\n",
    "* Gestión de valores nullos. \n",
    "* Asignación de los tipos de datos correspondientes. "
   ]
  },
  {
   "cell_type": "code",
   "execution_count": 76,
   "metadata": {},
   "outputs": [],
   "source": [
    "project_root = Path(os.getcwd()).parent\n",
    "sys.path.append(str(project_root))"
   ]
  },
  {
   "cell_type": "code",
   "execution_count": 78,
   "metadata": {},
   "outputs": [
    {
     "ename": "ImportError",
     "evalue": "cannot import name 'almacenes_info' from 'model.model_info' (c:\\Users\\MonicaAlcantarMartin\\OneDrive - LIS Data Solutions\\Documentos\\Proyectos\\JGL21\\jgl21-rpa-dwh\\dwh\\model\\model_info.py)",
     "output_type": "error",
     "traceback": [
      "\u001b[1;31m---------------------------------------------------------------------------\u001b[0m",
      "\u001b[1;31mImportError\u001b[0m                               Traceback (most recent call last)",
      "Cell \u001b[1;32mIn[78], line 1\u001b[0m\n\u001b[1;32m----> 1\u001b[0m \u001b[38;5;28;01mfrom\u001b[39;00m \u001b[38;5;21;01mmodel\u001b[39;00m\u001b[38;5;21;01m.\u001b[39;00m\u001b[38;5;21;01mmodel_info\u001b[39;00m \u001b[38;5;28;01mimport\u001b[39;00m almacenes_info, articulos_info, bonos_presencia_info\n\u001b[0;32m      2\u001b[0m \u001b[38;5;28;01mfrom\u001b[39;00m \u001b[38;5;21;01mmodel\u001b[39;00m\u001b[38;5;21;01m.\u001b[39;00m\u001b[38;5;21;01mmodel_info\u001b[39;00m \u001b[38;5;28;01mimport\u001b[39;00m bonos_trabajadas_info, clientes_info\n\u001b[0;32m      3\u001b[0m \u001b[38;5;28;01mfrom\u001b[39;00m \u001b[38;5;21;01mmodel\u001b[39;00m\u001b[38;5;21;01m.\u001b[39;00m\u001b[38;5;21;01mmodel_info\u001b[39;00m \u001b[38;5;28;01mimport\u001b[39;00m compras_info, empresas_info, invertidas_info\n",
      "\u001b[1;31mImportError\u001b[0m: cannot import name 'almacenes_info' from 'model.model_info' (c:\\Users\\MonicaAlcantarMartin\\OneDrive - LIS Data Solutions\\Documentos\\Proyectos\\JGL21\\jgl21-rpa-dwh\\dwh\\model\\model_info.py)"
     ]
    }
   ],
   "source": [
    "from model.model_info import almacenes_info, articulos_info, bonos_presencia_info\n",
    "from model.model_info import bonos_trabajadas_info, clientes_info\n",
    "from model.model_info import compras_info, empresas_info, invertidas_info\n",
    "from model.model_info import operarios_info, stock_info, ordenes_reparacion_info\n",
    "from model.model_info import ordenes_venta_mostrador_info, ordenes_venta_taller_info\n",
    "from model.model_info import talleres_info, tipos_horas_info, tipos_ordenes_reparacion_info\n",
    "from model.model_info import tipos_ventas_almacen_info, vehiculos_info"
   ]
  },
  {
   "cell_type": "code",
   "execution_count": 80,
   "metadata": {},
   "outputs": [],
   "source": [
    "from model.model_info import vehiculos_info"
   ]
  },
  {
   "cell_type": "code",
   "execution_count": 70,
   "metadata": {},
   "outputs": [
    {
     "ename": "NameError",
     "evalue": "name 'almacenes_info' is not defined",
     "output_type": "error",
     "traceback": [
      "\u001b[1;31m---------------------------------------------------------------------------\u001b[0m",
      "\u001b[1;31mNameError\u001b[0m                                 Traceback (most recent call last)",
      "Cell \u001b[1;32mIn[70], line 2\u001b[0m\n\u001b[0;32m      1\u001b[0m \u001b[38;5;66;03m# Asignar nombres correspondientes a campos de tablas\u001b[39;00m\n\u001b[1;32m----> 2\u001b[0m df_almacenes\u001b[38;5;241m.\u001b[39mcolumns \u001b[38;5;241m=\u001b[39m \u001b[43malmacenes_info\u001b[49m\u001b[38;5;241m.\u001b[39mkeys()\n\u001b[0;32m      3\u001b[0m df_operarios\u001b[38;5;241m.\u001b[39mcolumns \u001b[38;5;241m=\u001b[39m operarios_info\u001b[38;5;241m.\u001b[39mkeys()\n\u001b[0;32m      4\u001b[0m df_empresas\u001b[38;5;241m.\u001b[39mcolumns \u001b[38;5;241m=\u001b[39m empresas_info\u001b[38;5;241m.\u001b[39mkeys()\n",
      "\u001b[1;31mNameError\u001b[0m: name 'almacenes_info' is not defined"
     ]
    }
   ],
   "source": [
    "# Asignar nombres correspondientes a campos de tablas\n",
    "df_almacenes.columns = almacenes_info.keys()\n",
    "df_operarios.columns = operarios_info.keys()\n",
    "df_empresas.columns = empresas_info.keys()\n",
    "df_vehiculos.columns = vehiculos_info.keys()\n",
    "df_tipos_horas.columns = tipos_horas_info.keys()\n",
    "df_tipos_venta.columns = tipos_horas_info.keys()\n",
    "df_cliente.columns = clientes_info.keys()\n",
    "df_articulos.columns = articulos_info.keys()\n",
    "df_talleres.columns = talleres_info.keys()\n"
   ]
  },
  {
   "cell_type": "code",
   "execution_count": 71,
   "metadata": {},
   "outputs": [
    {
     "ename": "NameError",
     "evalue": "name 'almacenes_info' is not defined",
     "output_type": "error",
     "traceback": [
      "\u001b[1;31m---------------------------------------------------------------------------\u001b[0m",
      "\u001b[1;31mNameError\u001b[0m                                 Traceback (most recent call last)",
      "Cell \u001b[1;32mIn[71], line 1\u001b[0m\n\u001b[1;32m----> 1\u001b[0m \u001b[43malmacenes_info\u001b[49m\u001b[38;5;241m.\u001b[39mkeys()\n",
      "\u001b[1;31mNameError\u001b[0m: name 'almacenes_info' is not defined"
     ]
    }
   ],
   "source": [
    "almacenes_info.keys()"
   ]
  },
  {
   "cell_type": "code",
   "execution_count": null,
   "metadata": {},
   "outputs": [],
   "source": []
  }
 ],
 "metadata": {
  "kernelspec": {
   "display_name": "venv",
   "language": "python",
   "name": "python3"
  },
  "language_info": {
   "codemirror_mode": {
    "name": "ipython",
    "version": 3
   },
   "file_extension": ".py",
   "mimetype": "text/x-python",
   "name": "python",
   "nbconvert_exporter": "python",
   "pygments_lexer": "ipython3",
   "version": "3.11.2"
  }
 },
 "nbformat": 4,
 "nbformat_minor": 2
}
