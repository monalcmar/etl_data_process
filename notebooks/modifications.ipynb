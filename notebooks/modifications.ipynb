{
 "cells": [
  {
   "cell_type": "markdown",
   "metadata": {},
   "source": [
    "Update Data functions"
   ]
  },
  {
   "cell_type": "code",
   "execution_count": 1,
   "metadata": {},
   "outputs": [],
   "source": [
    "import os \n",
    "import sys\n",
    "import pandas as pd\n",
    "import numpy as np\n",
    "from pathlib import Path"
   ]
  },
  {
   "cell_type": "code",
   "execution_count": 2,
   "metadata": {},
   "outputs": [],
   "source": [
    "# Importar modulos propios en notebook\n",
    "project_root = Path(os.getcwd()).parent\n",
    "sys.path.append(str(project_root))"
   ]
  },
  {
   "cell_type": "code",
   "execution_count": 3,
   "metadata": {},
   "outputs": [],
   "source": [
    "# from logger.logger import logger\n",
    "import dependencies as dp"
   ]
  },
  {
   "cell_type": "code",
   "execution_count": null,
   "metadata": {},
   "outputs": [],
   "source": [
    "from processes.transform.silver import bronze_df\n",
    "from processes.extract.silver import dataframes as silver_df\n",
    "from db.engines import engine_silver, conn_silver"
   ]
  },
  {
   "cell_type": "code",
   "execution_count": 3,
   "metadata": {},
   "outputs": [
    {
     "name": "stderr",
     "output_type": "stream",
     "text": [
      "2024-12-02 15:27:16,399 - INFO - Successful connection to schema bronze\n",
      "2024-12-02 15:27:16,428 - INFO - Successful connection to schema silver\n",
      "2024-12-02 15:27:16,468 - INFO - Successful connection to schema gold\n"
     ]
    }
   ],
   "source": [
    "from db.engines import engine_silver, conn_silver"
   ]
  },
  {
   "cell_type": "code",
   "execution_count": 5,
   "metadata": {},
   "outputs": [],
   "source": [
    "from model.table_relations import related_bron_silv"
   ]
  },
  {
   "cell_type": "code",
   "execution_count": 6,
   "metadata": {},
   "outputs": [],
   "source": [
    "def create_combined_key (df, key_columns, date_column=None):\n",
    "    '''\n",
    "    Creates a unique key from different key columns given.\n",
    "\n",
    "    input:\n",
    "        - df (DataFrame): Dataframe from which key_columns are taken.\n",
    "        - key_columns (list): List of strings of the ckay column names.\n",
    "        - date_column str: Name of a column of date type (optional).\n",
    "\n",
    "    output:\n",
    "        - combined_key (Series): Serie of the combined key created from key_columns and date_column.\n",
    "\n",
    "    '''\n",
    "    combined_key = df[key_columns[0]].astype(str)\n",
    "\n",
    "    for key in key_columns[1:]:\n",
    "        combined_key += '_' + df[key].astype(str)\n",
    "\n",
    "    if date_column:\n",
    "        combined_key += '_' + df[date_column].astype(str)\n",
    "\n",
    "    return combined_key"
   ]
  },
  {
   "cell_type": "code",
   "execution_count": 7,
   "metadata": {},
   "outputs": [],
   "source": [
    "def get_modified_data (df_new_data, df_ref_data, key_columns, date_column=None):\n",
    "    '''\n",
    "    Identifies and retrieves modified rows by comparing a DataFrame with new data \n",
    "    against a reference DataFrame representing the current state in the database.\n",
    "\n",
    "    Parameters:\n",
    "        - df_new_data (DataFrame): DataFrame containing the new data to compare.\n",
    "        - df_ref_data (DataFrame): DataFrame with the reference data from the database.\n",
    "        - key_columns (list of str): List of column names used to generate a unique \n",
    "          combined key for identifying rows.\n",
    "        - date_column (str, optional): Name of a date column included in the combined \n",
    "          key for more precise row identification (default is None).\n",
    "\n",
    "    Returns:\n",
    "        - df_mod_data (DataFrame): A DataFrame containing only the rows with modified \n",
    "          data, where any column differs between the new and reference data. \n",
    "    '''\n",
    "\n",
    "    # create combined_key for each df \n",
    "    df_new_data = df_new_data.assign(\n",
    "        combined_key=create_combined_key(\n",
    "            df=df_new_data,\n",
    "            key_columns=key_columns,\n",
    "            date_column=date_column)\n",
    "        )\n",
    "\n",
    "    df_ref_data = df_ref_data.assign(\n",
    "        combined_key=create_combined_key(\n",
    "            df=df_ref_data,\n",
    "            key_columns=key_columns,\n",
    "            date_column=date_column)\n",
    "        )\n",
    "\n",
    "    merge_data = df_new_data.merge(\n",
    "        df_ref_data, on='combined_key',\n",
    "        suffixes=('_new', '_ref')\n",
    "        )\n",
    "\n",
    "    # Make sure both DataFrames have the same column names and index\n",
    "    new_merge_data = merge_data.filter(regex='_new$').sort_index(axis=1)\n",
    "    df_ref_data = merge_data.filter(regex='_ref$').sort_index(axis=1)\n",
    "\n",
    "    # Otherwise column names are adjusted\n",
    "    new_merge_data.columns = new_merge_data.columns.str.replace('_new$', '', regex=True)\n",
    "    df_ref_data.columns = df_ref_data.columns.str.replace('_ref$', '', regex=True)\n",
    "\n",
    "    # Normalize data: fill None/NaN and convert to consistent types\n",
    "    new_merge_data = new_merge_data.fillna(\"\").astype(str)\n",
    "    df_ref_data = df_ref_data.fillna(\"\").astype(str)\n",
    "\n",
    "\n",
    "    # Compare rows where there are differences\n",
    "    df_mod_data = merge_data[(new_merge_data != df_ref_data).any(axis=1)]\n",
    "\n",
    "    return df_mod_data"
   ]
  },
  {
   "cell_type": "code",
   "execution_count": null,
   "metadata": {},
   "outputs": [],
   "source": [
    "from sqlalchemy import text\n",
    "\n",
    "def update_modified_data (df_mod_data, key_columns, db_tbl_name, conn):\n",
    "    '''\n",
    "    Updates rows in a database table based on modified data provided in a Pandas DataFrame.\n",
    "\n",
    "    imput:\n",
    "        - df_mod_data (DataFrame): Dataframe with rows of data that has been modified.\n",
    "        - key_columns (list of str): List of column names used to generate a unique \n",
    "          combined key for identifying rows. \n",
    "        - bd_tbl_name (str): String with the name of the database table name to be updated. \n",
    "        - conn (sqlalchemy.engine.base.Connection): Database base engine base connection.\n",
    "    \n",
    "    output:\n",
    "        None\n",
    "    '''\n",
    "    for _, fila in df_mod_data.iterrows():\n",
    "        print(f\"Procesando fila {_}:\")\n",
    "        print(fila)\n",
    "\n",
    "        # Dic of values fot SET CLause (without \"_new\")\n",
    "        valores = {\n",
    "            col.replace('_new', ''): fila[col]\n",
    "            for col in df_mod_data.filter(regex='_new$').columns\n",
    "        }\n",
    "\n",
    "        # print(\"Valores para SET:\", valores)\n",
    "\n",
    "        # SET and WHERE Clauses\n",
    "        set_clause = ', '.join([f'\"{col}\" = :{col}' for col in valores.keys()])\n",
    "        where_clause = \" AND \".join(\n",
    "            [f'\"{key}\" = :key_{key}' for key in key_columns]\n",
    "        )\n",
    "        query = f'UPDATE \"{db_tbl_name}\" SET {set_clause} WHERE {where_clause}'\n",
    "\n",
    "        # Create query parameters\n",
    "        params = valores.copy()\n",
    "        params.update({\n",
    "            f'key_{key}': fila[f\"{key}_new\"] for key in key_columns\n",
    "        })\n",
    "\n",
    "        # print(\"Query generado:\", query)\n",
    "        # print(\"Parámetros generados:\", params)\n",
    "\n",
    "        # Execute query\n",
    "        with conn as conn:\n",
    "            conn.begin()\n",
    "            conn.execute(text(query), params)\n",
    "            conn.commit()"
   ]
  },
  {
   "cell_type": "code",
   "execution_count": null,
   "metadata": {},
   "outputs": [],
   "source": [
    "for key in related_bron_silv.keys():\n",
    "    #if key in {'master_table', 'master_table_mult', 'fact_table', 'fact_table_mult'}:\n",
    "    for table in related_bron_silv[key]:\n",
    "        dp.logger.info(f'Processing updating data process fot table: \"{table['tbl_silv']}\"')\n",
    "        # Accede a los valores del diccionario interno\n",
    "        tbl_bron = table['tbl_bron']\n",
    "        tbl_silv = table['tbl_silv']\n",
    "        key_columns = table['key_columns']\n",
    "        date_column = table['date_column']\n",
    "        \n",
    "        # Llama a la función usando los valores extraídos\n",
    "        df_mod_data = get_modified_data(\n",
    "            df_new_data=bronze_df[tbl_bron], \n",
    "            df_ref_data=silver_df[tbl_silv], \n",
    "            key_columns=key_columns,\n",
    "            date_column=date_column\n",
    "        )\n",
    "        # Llamar a la función de modificacíón si hay datos para modificar\n",
    "        if not df_mod_data.empty:\n",
    "            dp.logger.info(f'There is data to update in table \"{tbl_silv}\"')\n",
    "        \n",
    "            try:                \n",
    "                update_modified_data (\n",
    "                    df_mod_data=df_mod_data,\n",
    "                    key_columns=key_columns,\n",
    "                    db_tbl_name=tbl_silv,\n",
    "                    conn=conn_silver)\n",
    "                \n",
    "                dp.logger.info(f'Update data has been insert succesfully into table \"{tbl_silv}\": {e}')\n",
    "\n",
    "            except Exception as e:\n",
    "                dp.logger.error(f\"An error has occurred trying to insert update data into table '{tbl_silv}': {e}\")\n",
    "                continue\n",
    "        \n",
    "        else:\n",
    "            dp.logger.info(f'There is not update data to insert into table \"{tbl_silv}\"')"
   ]
  },
  {
   "cell_type": "markdown",
   "metadata": {},
   "source": [
    "Validación - Tests "
   ]
  },
  {
   "cell_type": "code",
   "execution_count": 9,
   "metadata": {},
   "outputs": [],
   "source": [
    "df_mod_data = pd.DataFrame({'Codigo_new': [13], 'Nombre_new':['MOD_DATA_TEST_3'],})\n",
    "key_columns = ['Codigo']\n",
    "db_tbl_name = 'Empresas'"
   ]
  },
  {
   "cell_type": "code",
   "execution_count": 10,
   "metadata": {},
   "outputs": [
    {
     "name": "stdout",
     "output_type": "stream",
     "text": [
      "Procesando fila 0:\n",
      "Codigo_new                 13\n",
      "Nombre_new    MOD_DATA_TEST_3\n",
      "Name: 0, dtype: object\n",
      "Valores para SET: {'Codigo': 13, 'Nombre': 'MOD_DATA_TEST_3'}\n",
      "Query generado: UPDATE \"Empresas\" SET \"Codigo\" = :Codigo, \"Nombre\" = :Nombre WHERE \"Codigo\" = :key_Codigo\n",
      "Parámetros generados: {'Codigo': 13, 'Nombre': 'MOD_DATA_TEST_3', 'key_Codigo': 13}\n"
     ]
    }
   ],
   "source": [
    "from sqlalchemy import text\n",
    "\n",
    "# Iterar sobre las filas del DataFrame\n",
    "for _, fila in df_mod_data.iterrows():\n",
    "    print(f\"Procesando fila {_}:\")\n",
    "    print(fila)\n",
    "\n",
    "    # Diccionario de valores para SET (nombres sin \"_new\")\n",
    "    valores = {\n",
    "        col.replace('_new', ''): fila[col]\n",
    "        for col in df_mod_data.filter(regex='_new$').columns\n",
    "    }\n",
    "\n",
    "    print(\"Valores para SET:\", valores)\n",
    "\n",
    "    # Cláusulas SET y WHERE\n",
    "    set_clause = ', '.join([f'\"{col}\" = :{col}' for col in valores.keys()])\n",
    "    where_clause = \" AND \".join(\n",
    "        [f'\"{key}\" = :key_{key}' for key in key_columns]\n",
    "    )\n",
    "    query = f'UPDATE \"{db_table_name}\" SET {set_clause} WHERE {where_clause}'\n",
    "\n",
    "    # Crear parámetros para la consulta\n",
    "    params = valores.copy()\n",
    "    params.update({\n",
    "        f'key_{key}': fila[f\"{key}_new\"] for key in key_columns\n",
    "    })\n",
    "\n",
    "    print(\"Query generado:\", query)\n",
    "    print(\"Parámetros generados:\", params)\n",
    "\n",
    "    # Execute query\n",
    "    with conn_silver as conn:\n",
    "        conn.begin()\n",
    "        conn.execute(text(query), params)\n",
    "        conn.commit()\n"
   ]
  },
  {
   "cell_type": "code",
   "execution_count": 13,
   "metadata": {},
   "outputs": [
    {
     "data": {
      "text/plain": [
       "sqlalchemy.engine.base.Connection"
      ]
     },
     "execution_count": 13,
     "metadata": {},
     "output_type": "execute_result"
    }
   ],
   "source": [
    "type(conn_silver)"
   ]
  },
  {
   "cell_type": "code",
   "execution_count": null,
   "metadata": {},
   "outputs": [],
   "source": []
  }
 ],
 "metadata": {
  "kernelspec": {
   "display_name": "venv",
   "language": "python",
   "name": "python3"
  },
  "language_info": {
   "codemirror_mode": {
    "name": "ipython",
    "version": 3
   },
   "file_extension": ".py",
   "mimetype": "text/x-python",
   "name": "python",
   "nbconvert_exporter": "python",
   "pygments_lexer": "ipython3",
   "version": "3.12.8"
  }
 },
 "nbformat": 4,
 "nbformat_minor": 2
}
