{
 "cells": [
  {
   "cell_type": "markdown",
   "metadata": {},
   "source": [
    "Generalize upload functions given relation diccionary"
   ]
  },
  {
   "cell_type": "code",
   "execution_count": 1,
   "metadata": {},
   "outputs": [],
   "source": [
    "import os \n",
    "import sys\n",
    "import pandas as pd\n",
    "import numpy as np\n",
    "from pathlib import Path\n",
    "from datetime import date, timedelta"
   ]
  },
  {
   "cell_type": "code",
   "execution_count": 2,
   "metadata": {},
   "outputs": [],
   "source": [
    "# Importar modulos propios en notebook\n",
    "project_root = Path(os.getcwd()).parent\n",
    "sys.path.append(str(project_root))"
   ]
  },
  {
   "cell_type": "code",
   "execution_count": 3,
   "metadata": {},
   "outputs": [
    {
     "name": "stderr",
     "output_type": "stream",
     "text": [
      "2024-11-28 12:52:20,937 - INFO - Successful connection to schema bronze\n",
      "2024-11-28 12:52:20,972 - INFO - Successful connection to schema silver\n",
      "2024-11-28 12:52:21,012 - INFO - Successful connection to schema gold\n"
     ]
    }
   ],
   "source": [
    "import dependencies as dp\n",
    "from db.engines import engine_silver\n",
    "from utils.functions import create_combined_key, build_upload_query\n"
   ]
  },
  {
   "cell_type": "code",
   "execution_count": 4,
   "metadata": {},
   "outputs": [
    {
     "name": "stderr",
     "output_type": "stream",
     "text": [
      "2024-11-28 12:52:23,319 - INFO - Mapping database tables in schema 'bronze' started.\n",
      "2024-11-28 12:52:23,406 - INFO - Tables in schema 'bronze' were successfully mapped.\n",
      "2024-11-28 12:52:23,916 - INFO - Data from all tables has been successfully loaded into DataFrames.\n",
      "2024-11-28 12:52:23,916 - INFO - Extract Process executed successfully in bronze schema.\n",
      "2024-11-28 12:52:23,928 - INFO - Columns successfully updated for 'U6321303_Almacenes'.\n",
      "2024-11-28 12:52:23,928 - INFO - Columns successfully updated for 'U6301303_Articulos'.\n",
      "2024-11-28 12:52:23,928 - INFO - Columns successfully updated for 'U6301303_Clientes'.\n",
      "2024-11-28 12:52:23,928 - INFO - Columns successfully updated for 'U6311303_Empresas'.\n",
      "2024-11-28 12:52:23,928 - INFO - Columns successfully updated for 'U6331303_Operarios'.\n",
      "2024-11-28 12:52:23,928 - INFO - Columns successfully updated for 'U6311303_Talleres'.\n",
      "2024-11-28 12:52:23,928 - INFO - Columns successfully updated for 'ULSTTHPT_TiposHoras'.\n",
      "2024-11-28 12:52:23,932 - INFO - Columns successfully updated for 'ULSTTVPT_TiposVentas'.\n",
      "2024-11-28 12:52:23,932 - INFO - Columns successfully updated for 'U6341303_Vehiculos'.\n",
      "2024-11-28 12:52:23,932 - INFO - Columns successfully updated for 'U551_Presencia'.\n",
      "2024-11-28 12:52:23,932 - INFO - Columns successfully updated for 'U532_Trabajadas'.\n",
      "2024-11-28 12:52:23,932 - INFO - Columns successfully updated for 'U553_Compras'.\n",
      "2024-11-28 12:52:23,932 - INFO - Columns successfully updated for 'U555_Invertidas'.\n",
      "2024-11-28 12:52:23,932 - INFO - Columns successfully updated for 'U552_Stock'.\n",
      "2024-11-28 12:52:23,932 - INFO - Columns successfully updated for 'U533_OrdenesReparacion'.\n",
      "2024-11-28 12:52:23,932 - INFO - Columns successfully updated for 'U554_VentasMostrador'.\n",
      "2024-11-28 12:52:23,932 - INFO - Columns successfully updated for 'U560_VentasTaller'.\n",
      "2024-11-28 12:52:23,932 - INFO - There is no constraint violation in null values for table.\n",
      "2024-11-28 12:52:23,943 - INFO - There is no constraint violation in null values for table.\n",
      "2024-11-28 12:52:23,949 - INFO - There is no constraint violation in null values for table.\n",
      "2024-11-28 12:52:23,959 - INFO - There is no constraint violation in null values for table.\n",
      "2024-11-28 12:52:23,959 - ERROR - There is constraint violation in null values for table.\n",
      "2024-11-28 12:52:23,966 - INFO - There is no constraint violation in null values for table.\n",
      "2024-11-28 12:52:23,966 - INFO - There is no constraint violation in null values for table.\n",
      "2024-11-28 12:52:23,966 - INFO - There is no constraint violation in null values for table.\n",
      "2024-11-28 12:52:23,966 - INFO - There is no constraint violation in null values for table.\n",
      "2024-11-28 12:52:23,992 - INFO - There is no constraint violation in null values for table.\n",
      "2024-11-28 12:52:24,008 - INFO - There is no constraint violation in null values for table.\n",
      "2024-11-28 12:52:24,058 - ERROR - There is constraint violation in null values for table.\n",
      "2024-11-28 12:52:24,286 - ERROR - There is constraint violation in null values for table.\n",
      "2024-11-28 12:52:24,304 - INFO - There is no constraint violation in null values for table.\n",
      "2024-11-28 12:52:24,341 - ERROR - There is constraint violation in null values for table.\n",
      "2024-11-28 12:52:24,373 - INFO - There is no constraint violation in null values for table.\n",
      "2024-11-28 12:52:24,432 - ERROR - There is constraint violation in null values for table.\n"
     ]
    }
   ],
   "source": [
    "from processes.transform.silver import bronze_df"
   ]
  },
  {
   "cell_type": "code",
   "execution_count": 8,
   "metadata": {},
   "outputs": [],
   "source": [
    "from model.table_relations import related_bron_silv"
   ]
  },
  {
   "cell_type": "code",
   "execution_count": 5,
   "metadata": {},
   "outputs": [],
   "source": [
    "def get_new_data (df, table_name, key_columns, date_column, engine):\n",
    "    '''\n",
    "    Process new values: \n",
    "        - Get existing values from the database.\n",
    "        - Identify new values in the dataframe.\n",
    "\n",
    "    input: \n",
    "        - table_name (str): name of the table in the database.\n",
    "        - df (DataFrame): dataframe to be compared with existing values.\n",
    "        - key_columns (list): list ok key column names in the dataframe and table database to compare.\n",
    "        - date_colum (str): date column name in the dataframe and table database to compare.\n",
    "        - engine (SQLAlchemy engine): database connection.\n",
    "\n",
    "    output:\n",
    "        - df_new_data (DataFrame): Dataframe with new indentified data.\n",
    "    '''\n",
    "   \n",
    "    # Get existing values from the database\n",
    "    query = build_upload_query(\n",
    "        table_name=table_name,\n",
    "        key_columns = key_columns,\n",
    "        date_column = date_column\n",
    "        )\n",
    "\n",
    "    df_existing_data = pd.read_sql(query, con=engine)#[key_column].tolist()\n",
    "\n",
    "    # Get new data by comparing dataframe with existing values\n",
    "\n",
    "    # Generate combined keys for comparison to identify new data\n",
    "    df = df.assign(\n",
    "        combined_key=create_combined_key(\n",
    "            df=df,\n",
    "            key_columns=key_columns,\n",
    "            date_column=date_column)\n",
    "        )\n",
    "\n",
    "    # Crear 'combined_key' en existing_values\n",
    "    df_existing_data = df_existing_data.assign(\n",
    "        combined_key=create_combined_key(\n",
    "            df=df_existing_data,\n",
    "            key_columns=key_columns,\n",
    "            date_column=date_column)\n",
    "        )\n",
    "\n",
    "    # Filter rows in df that are not in existing_values\n",
    "    df_new_data = df[~df['combined_key'].isin(df_existing_data['combined_key'])]\n",
    "\n",
    "    # Drop the temporary 'combined_key' column before saving new values\n",
    "    df_new_data = df_new_data.drop(columns='combined_key')\n",
    "    df_existing_data = df_existing_data.drop(columns='combined_key')\n",
    "\n",
    "    return df_new_data"
   ]
  },
  {
   "cell_type": "code",
   "execution_count": 6,
   "metadata": {},
   "outputs": [],
   "source": [
    "def upload_new_data(df_new_data, table_name, engine, date_column=None):\n",
    "    ''''''\n",
    "    if date_column:\n",
    "        df_new_data = df_new_data.sort_values(date_column, ascending=True)\n",
    "    \n",
    "    df_new_data.to_sql(table_name, con=engine, if_exists='append', index=False)"
   ]
  },
  {
   "cell_type": "code",
   "execution_count": 26,
   "metadata": {},
   "outputs": [],
   "source": [
    "related_bron_silv = {\n",
    "    'fact_table_mult': [\n",
    "        {'tbl_bron': 'U533_OrdenesReparacion', \n",
    "         'tbl_silv': 'OrdenesReparacion', \n",
    "         'key_columns': ['ReferenciaOR'],\n",
    "         'date_column': 'FechaApertura'}]}"
   ]
  },
  {
   "cell_type": "code",
   "execution_count": 9,
   "metadata": {},
   "outputs": [
    {
     "name": "stderr",
     "output_type": "stream",
     "text": [
      "2024-11-28 12:53:11,666 - INFO - Processing updloading data process fot table: \"Almacenes\"\n",
      "2024-11-28 12:53:11,702 - INFO - There is not update data to insert into table \"Almacenes\"\n",
      "2024-11-28 12:53:11,702 - INFO - Processing updloading data process fot table: \"Clientes\"\n",
      "2024-11-28 12:53:11,716 - INFO - There is not update data to insert into table \"Clientes\"\n",
      "2024-11-28 12:53:11,716 - INFO - Processing updloading data process fot table: \"Empresas\"\n",
      "2024-11-28 12:53:11,716 - INFO - There is not update data to insert into table \"Empresas\"\n",
      "2024-11-28 12:53:11,716 - INFO - Processing updloading data process fot table: \"Operarios\"\n",
      "2024-11-28 12:53:11,716 - INFO - There is not update data to insert into table \"Operarios\"\n",
      "2024-11-28 12:53:11,716 - INFO - Processing updloading data process fot table: \"Talleres\"\n",
      "2024-11-28 12:53:11,716 - INFO - There is not update data to insert into table \"Talleres\"\n",
      "2024-11-28 12:53:11,716 - INFO - Processing updloading data process fot table: \"TiposHoras\"\n",
      "2024-11-28 12:53:11,731 - INFO - There is not update data to insert into table \"TiposHoras\"\n",
      "2024-11-28 12:53:11,731 - INFO - Processing updloading data process fot table: \"TiposVentasAlmacen\"\n",
      "2024-11-28 12:53:11,731 - INFO - There is not update data to insert into table \"TiposVentasAlmacen\"\n",
      "2024-11-28 12:53:11,731 - INFO - Processing updloading data process fot table: \"Vehiculos\"\n",
      "2024-11-28 12:53:11,746 - INFO - There is not update data to insert into table \"Vehiculos\"\n",
      "2024-11-28 12:53:11,747 - INFO - Processing updloading data process fot table: \"Articulos\"\n",
      "2024-11-28 12:53:11,813 - INFO - There is not update data to insert into table \"Articulos\"\n",
      "2024-11-28 12:53:11,813 - INFO - Processing updloading data process fot table: \"OrdenesReparacion\"\n",
      "2024-11-28 12:53:11,839 - INFO - There is not update data to insert into table \"OrdenesReparacion\"\n",
      "2024-11-28 12:53:11,840 - INFO - Processing updloading data process fot table: \"OrdenesVentaMostrador\"\n",
      "2024-11-28 12:53:11,852 - INFO - There is not update data to insert into table \"OrdenesVentaMostrador\"\n",
      "2024-11-28 12:53:11,852 - INFO - Processing updloading data process fot table: \"OrdenesVentaTaller\"\n",
      "2024-11-28 12:53:11,955 - INFO - There is new data to upload in table \"OrdenesVentaTaller\"\n",
      "2024-11-28 12:53:11,970 - INFO - New data has been uploaded succesfully into table \"OrdenesVentaTaller\"\n",
      "2024-11-28 12:53:11,970 - INFO - Processing updloading data process fot table: \"BonosPresencia\"\n",
      "2024-11-28 12:53:12,003 - INFO - There is new data to upload in table \"BonosPresencia\"\n",
      "2024-11-28 12:53:12,010 - INFO - New data has been uploaded succesfully into table \"BonosPresencia\"\n",
      "2024-11-28 12:53:12,010 - INFO - Processing updloading data process fot table: \"BonosTrabajadas\"\n",
      "2024-11-28 12:53:12,068 - INFO - There is new data to upload in table \"BonosTrabajadas\"\n",
      "2024-11-28 12:53:12,076 - INFO - New data has been uploaded succesfully into table \"BonosTrabajadas\"\n",
      "2024-11-28 12:53:12,076 - INFO - Processing updloading data process fot table: \"Compras\"\n",
      "2024-11-28 12:53:12,130 - INFO - There is not update data to insert into table \"Compras\"\n",
      "2024-11-28 12:53:12,131 - INFO - Processing updloading data process fot table: \"Invertidas\"\n",
      "2024-11-28 12:53:12,147 - INFO - There is not update data to insert into table \"Invertidas\"\n",
      "2024-11-28 12:53:12,148 - INFO - Processing updloading data process fot table: \"Stock\"\n",
      "2024-11-28 12:53:12,170 - INFO - There is not update data to insert into table \"Stock\"\n"
     ]
    }
   ],
   "source": [
    "for key in related_bron_silv.keys():\n",
    "    #if key in {'master_table', 'master_table_mult', 'fact_table', 'fact_table_mult'}:\n",
    "    for table in related_bron_silv[key]:\n",
    "        dp.logger.info(f'Processing updloading data process fot table: \"{table['tbl_silv']}\"')\n",
    "        # Accede a los valores del diccionario interno\n",
    "        df = bronze_df[table['tbl_bron']]\n",
    "        table_name = table['tbl_silv']\n",
    "        key_columns = table['key_columns']\n",
    "        date_column = table['date_column']\n",
    "\n",
    "        # Execute upload new data function\n",
    "        df_new_data = get_new_data (\n",
    "            df=df, \n",
    "            table_name=table_name,\n",
    "            key_columns=key_columns,\n",
    "            date_column=date_column,\n",
    "            engine=engine_silver) \n",
    "            \n",
    "        if not df_new_data.empty:\n",
    "            dp.logger.info(f'There is new data to upload in table \"{table_name}\"')\n",
    "            try:\n",
    "                upload_new_data(\n",
    "                    df_new_data=df_new_data,\n",
    "                    table_name=table_name, \n",
    "                    date_column=date_column, \n",
    "                    engine=engine_silver)\n",
    "                \n",
    "                dp.logger.info(f'New data has been uploaded succesfully into table \"{table_name}\"')\n",
    "\n",
    "            except Exception as e:\n",
    "                dp.logger.error(f\"An error has occurred trying to insert new data into table '{table_name}': {e}\")\n",
    "                continue\n",
    "            \n",
    "        else:\n",
    "            dp.logger.info(f'There is not update data to insert into table \"{table_name}\"')\n",
    "    "
   ]
  },
  {
   "cell_type": "code",
   "execution_count": null,
   "metadata": {},
   "outputs": [],
   "source": []
  }
 ],
 "metadata": {
  "kernelspec": {
   "display_name": "venv",
   "language": "python",
   "name": "python3"
  },
  "language_info": {
   "codemirror_mode": {
    "name": "ipython",
    "version": 3
   },
   "file_extension": ".py",
   "mimetype": "text/x-python",
   "name": "python",
   "nbconvert_exporter": "python",
   "pygments_lexer": "ipython3",
   "version": "3.12.7"
  }
 },
 "nbformat": 4,
 "nbformat_minor": 2
}
